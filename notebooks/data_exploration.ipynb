{
 "cells": [
  {
   "cell_type": "markdown",
   "id": "5665c10c",
   "metadata": {},
   "source": [
    "First, we need to import the libraries needed to have access to functions.py and various other libraries"
   ]
  },
  {
   "cell_type": "code",
   "execution_count": 1,
   "id": "cea997a3",
   "metadata": {},
   "outputs": [],
   "source": [
    "import sys\n",
    "import os"
   ]
  },
  {
   "cell_type": "markdown",
   "id": "f5d3e909",
   "metadata": {},
   "source": [
    "We append our to working path the ../src path, where functions.py lies"
   ]
  },
  {
   "cell_type": "code",
   "execution_count": 2,
   "id": "0a7bfb47",
   "metadata": {},
   "outputs": [
    {
     "name": "stdout",
     "output_type": "stream",
     "text": [
      "/home/sdi1700187/MLCBAss2/Assignment-2\n"
     ]
    }
   ],
   "source": [
    "\n",
    "# need to be able to import src\n",
    "sys.path.append(os.path.abspath(os.path.join(os.getcwd(), \"..\")))\n",
    "\n",
    "# absolute path to the src directory\n",
    "src_path = os.path.abspath(\"../src\")\n",
    "\n",
    "# Add src directory to system path\n",
    "sys.path.append(src_path)\n",
    "\n",
    "# get the /MLCBAss1/Assignment-2 path\n",
    "ass_path=sys.path[-2]\n",
    "\n",
    "print(ass_path)"
   ]
  },
  {
   "cell_type": "markdown",
   "id": "647e1940",
   "metadata": {},
   "source": [
    "We import everything from functions.py. Also the first two line ensure that everytime we change something to functions.py, this change can be \"seen\" here"
   ]
  },
  {
   "cell_type": "code",
   "execution_count": 3,
   "id": "a3dea4a8",
   "metadata": {},
   "outputs": [],
   "source": [
    "%load_ext autoreload\n",
    "%autoreload 2\n",
    "\n",
    "from functions import *"
   ]
  }
 ],
 "metadata": {
  "kernelspec": {
   "display_name": "base",
   "language": "python",
   "name": "python3"
  },
  "language_info": {
   "codemirror_mode": {
    "name": "ipython",
    "version": 3
   },
   "file_extension": ".py",
   "mimetype": "text/x-python",
   "name": "python",
   "nbconvert_exporter": "python",
   "pygments_lexer": "ipython3",
   "version": "3.12.7"
  }
 },
 "nbformat": 4,
 "nbformat_minor": 5
}
