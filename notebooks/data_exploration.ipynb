{
 "cells": [
  {
   "cell_type": "markdown",
   "id": "5665c10c",
   "metadata": {},
   "source": [
    "First, we need to import the libraries needed to have access to functions.py and various other libraries"
   ]
  },
  {
   "cell_type": "code",
   "execution_count": 23,
   "id": "cea997a3",
   "metadata": {},
   "outputs": [],
   "source": [
    "import sys\n",
    "import os"
   ]
  },
  {
   "cell_type": "markdown",
   "id": "f5d3e909",
   "metadata": {},
   "source": [
    "We append our to working path the ../src path, where functions.py lies"
   ]
  },
  {
   "cell_type": "code",
   "execution_count": 24,
   "id": "0a7bfb47",
   "metadata": {},
   "outputs": [
    {
     "name": "stdout",
     "output_type": "stream",
     "text": [
      "/home/sdi1700187/MLCBAss2/Assignment-2\n"
     ]
    }
   ],
   "source": [
    "\n",
    "# need to be able to import src\n",
    "sys.path.append(os.path.abspath(os.path.join(os.getcwd(), \"..\")))\n",
    "\n",
    "# absolute path to the src directory\n",
    "src_path = os.path.abspath(\"../src\")\n",
    "\n",
    "# Add src directory to system path\n",
    "sys.path.append(src_path)\n",
    "\n",
    "# get the /MLCBAss1/Assignment-2 path\n",
    "ass_path=sys.path[-2]\n",
    "\n",
    "print(ass_path)"
   ]
  },
  {
   "cell_type": "markdown",
   "id": "647e1940",
   "metadata": {},
   "source": [
    "We import everything from functions.py. Also the first two line ensure that everytime we change something to functions.py, this change can be \"seen\" here"
   ]
  },
  {
   "cell_type": "code",
   "execution_count": 25,
   "id": "a3dea4a8",
   "metadata": {},
   "outputs": [
    {
     "name": "stdout",
     "output_type": "stream",
     "text": [
      "The autoreload extension is already loaded. To reload it, use:\n",
      "  %reload_ext autoreload\n"
     ]
    }
   ],
   "source": [
    "%load_ext autoreload\n",
    "%autoreload 2\n",
    "\n",
    "from functions import *"
   ]
  },
  {
   "cell_type": "code",
   "execution_count": 26,
   "id": "e71bc5f9",
   "metadata": {},
   "outputs": [
    {
     "name": "stdout",
     "output_type": "stream",
     "text": [
      "Shape of dataset: (512, 32) (512 entries and 32 columns)\n",
      "Data type of the 32 columns\n",
      " id                           int64\n",
      "diagnosis                   object\n",
      "radius_mean                float64\n",
      "texture_mean               float64\n",
      "perimeter_mean             float64\n",
      "area_mean                  float64\n",
      "smoothness_mean            float64\n",
      "compactness_mean           float64\n",
      "concavity_mean             float64\n",
      "concave points_mean        float64\n",
      "symmetry_mean              float64\n",
      "fractal_dimension_mean     float64\n",
      "radius_se                  float64\n",
      "texture_se                 float64\n",
      "perimeter_se               float64\n",
      "area_se                    float64\n",
      "smoothness_se              float64\n",
      "compactness_se             float64\n",
      "concavity_se               float64\n",
      "concave points_se          float64\n",
      "symmetry_se                float64\n",
      "fractal_dimension_se       float64\n",
      "radius_worst               float64\n",
      "texture_worst              float64\n",
      "perimeter_worst            float64\n",
      "area_worst                 float64\n",
      "smoothness_worst           float64\n",
      "compactness_worst          float64\n",
      "concavity_worst            float64\n",
      "concave points_worst       float64\n",
      "symmetry_worst             float64\n",
      "fractal_dimension_worst    float64\n",
      "dtype: object\n",
      "Our data consists of 32 columns and 512 entries\n",
      "We have 30 numeric columns. These are ['radius_mean', 'texture_mean', 'perimeter_mean', 'area_mean', 'smoothness_mean', 'compactness_mean', 'concavity_mean', 'concave points_mean', 'symmetry_mean', 'fractal_dimension_mean', 'radius_se', 'texture_se', 'perimeter_se', 'area_se', 'smoothness_se', 'compactness_se', 'concavity_se', 'concave points_se', 'symmetry_se', 'fractal_dimension_se', 'radius_worst', 'texture_worst', 'perimeter_worst', 'area_worst', 'smoothness_worst', 'compactness_worst', 'concavity_worst', 'concave points_worst', 'symmetry_worst', 'fractal_dimension_worst']\n",
      "30 columns have missing values. These columns are : ['radius_mean', 'texture_mean', 'perimeter_mean', 'area_mean', 'smoothness_mean', 'compactness_mean', 'concavity_mean', 'concave points_mean', 'symmetry_mean', 'fractal_dimension_mean', 'radius_se', 'texture_se', 'perimeter_se', 'area_se', 'smoothness_se', 'compactness_se', 'concavity_se', 'concave points_se', 'symmetry_se', 'fractal_dimension_se', 'radius_worst', 'texture_worst', 'perimeter_worst', 'area_worst', 'smoothness_worst', 'compactness_worst', 'concavity_worst', 'concave points_worst', 'symmetry_worst', 'fractal_dimension_worst']\n",
      "In total we have 153 missing values\n",
      "We now have 0 columns with missing values. These columns are : []\n",
      "No duplicates in the set\n",
      "Before removal of outliers (512, 32)\n",
      "Absolute frequencies of field \"diagnosis\"\n",
      "diagnosis\n",
      "1    321\n",
      "0    191\n",
      "Name: count, dtype: int64\n",
      "Percentage of each class of field \"diagnosis\"\n",
      "diagnosis\n",
      "1    0.626953\n",
      "0    0.373047\n",
      "Name: proportion, dtype: float64\n",
      "After removal of outliers (445, 32)\n",
      "Absolute frequencies of field \"diagnosis\"\n",
      "diagnosis\n",
      "1    302\n",
      "0    143\n",
      "Name: count, dtype: int64\n",
      "Percentage of each class of field \"diagnosis\"\n",
      "diagnosis\n",
      "1    0.678652\n",
      "0    0.321348\n",
      "Name: proportion, dtype: float64\n",
      "We could remove 67 entries (13.09% of total entries)\n",
      "We WON'T remove the outliers.\n"
     ]
    }
   ],
   "source": [
    "df=pd.read_csv('../data/breast_cancer.csv')\n",
    "df=clean_data(df)"
   ]
  }
 ],
 "metadata": {
  "kernelspec": {
   "display_name": "base",
   "language": "python",
   "name": "python3"
  },
  "language_info": {
   "codemirror_mode": {
    "name": "ipython",
    "version": 3
   },
   "file_extension": ".py",
   "mimetype": "text/x-python",
   "name": "python",
   "nbconvert_exporter": "python",
   "pygments_lexer": "ipython3",
   "version": "3.12.7"
  }
 },
 "nbformat": 4,
 "nbformat_minor": 5
}
