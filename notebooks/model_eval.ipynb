{
 "cells": [
  {
   "cell_type": "code",
   "execution_count": 7,
   "id": "ad0194c0",
   "metadata": {},
   "outputs": [],
   "source": [
    "import sys\n",
    "import os"
   ]
  },
  {
   "cell_type": "code",
   "execution_count": 8,
   "id": "3e97061e",
   "metadata": {},
   "outputs": [
    {
     "name": "stdout",
     "output_type": "stream",
     "text": [
      "/home/sdi1700187/MLCBAss2/Assignment-2\n"
     ]
    }
   ],
   "source": [
    "# need to be able to import src\n",
    "sys.path.append(os.path.abspath(os.path.join(os.getcwd(), \"..\")))\n",
    "\n",
    "# absolute path to the src directory\n",
    "src_path = os.path.abspath(\"../src\")\n",
    "\n",
    "# Add src directory to system path\n",
    "sys.path.append(src_path)\n",
    "\n",
    "# get the /MLCBAss1/Assignment-2 path\n",
    "ass_path=sys.path[-2]\n",
    "\n",
    "print(ass_path)"
   ]
  },
  {
   "cell_type": "code",
   "execution_count": 9,
   "id": "852ae581",
   "metadata": {},
   "outputs": [
    {
     "name": "stdout",
     "output_type": "stream",
     "text": [
      "The autoreload extension is already loaded. To reload it, use:\n",
      "  %reload_ext autoreload\n"
     ]
    }
   ],
   "source": [
    "%load_ext autoreload\n",
    "%autoreload 2\n",
    "\n",
    "from functions import *"
   ]
  },
  {
   "cell_type": "code",
   "execution_count": 10,
   "id": "b906e2c4",
   "metadata": {},
   "outputs": [
    {
     "data": {
      "text/plain": [
       "Index(['id', 'diagnosis', 'radius_mean', 'texture_mean', 'perimeter_mean',\n",
       "       'area_mean', 'smoothness_mean', 'compactness_mean', 'concavity_mean',\n",
       "       'concave points_mean', 'symmetry_mean', 'fractal_dimension_mean',\n",
       "       'radius_se', 'texture_se', 'perimeter_se', 'area_se', 'smoothness_se',\n",
       "       'compactness_se', 'concavity_se', 'concave points_se', 'symmetry_se',\n",
       "       'fractal_dimension_se', 'radius_worst', 'texture_worst',\n",
       "       'perimeter_worst', 'area_worst', 'smoothness_worst',\n",
       "       'compactness_worst', 'concavity_worst', 'concave points_worst',\n",
       "       'symmetry_worst', 'fractal_dimension_worst'],\n",
       "      dtype='object')"
      ]
     },
     "execution_count": 10,
     "metadata": {},
     "output_type": "execute_result"
    }
   ],
   "source": [
    "df=pd.read_csv('../data/dev_breast_cancer.csv')\n",
    "df.columns"
   ]
  },
  {
   "cell_type": "code",
   "execution_count": 11,
   "id": "b3a4228f",
   "metadata": {},
   "outputs": [],
   "source": [
    "from pathlib import Path\n",
    "\n",
    "my_file = Path(\"../data/rncv_summary_results.csv\")\n",
    "if not my_file.is_file():\n",
    "    perform_rnCV(path='../data/dev_breast_cancer.csv')"
   ]
  },
  {
   "cell_type": "code",
   "execution_count": 12,
   "id": "0d98151d",
   "metadata": {},
   "outputs": [
    {
     "name": "stdout",
     "output_type": "stream",
     "text": [
      "The winner method is LogisticRegression with 9/9 metrics\n",
      " ALL HAIL THE KING!\n"
     ]
    },
    {
     "name": "stderr",
     "output_type": "stream",
     "text": [
      "[I 2025-05-04 00:11:07,209] A new study created in memory with name: Winner:LogisticRegression\n",
      "[I 2025-05-04 00:11:09,709] Trial 0 finished with value: 0.978089421252372 and parameters: {'penalty': 'l1', 'solver': 'saga', 'C': 0.40567950834370875, 'l1_ratio': 0.783497223945947}. Best is trial 0 with value: 0.978089421252372.\n",
      "[I 2025-05-04 00:11:12,337] Trial 1 finished with value: 0.9571770240354205 and parameters: {'penalty': 'l2', 'solver': 'saga', 'C': 0.021426391606639415, 'l1_ratio': 0.8934262142118786}. Best is trial 0 with value: 0.978089421252372.\n",
      "[I 2025-05-04 00:11:14,718] Trial 2 finished with value: 0.5 and parameters: {'penalty': 'l1', 'solver': 'saga', 'C': 0.0012629118093906765, 'l1_ratio': 0.32176029927208993}. Best is trial 0 with value: 0.978089421252372.\n",
      "[I 2025-05-04 00:11:17,083] Trial 3 finished with value: 0.9749644212523719 and parameters: {'penalty': 'elasticnet', 'solver': 'saga', 'C': 0.29877488288343323, 'l1_ratio': 0.8214509969595191}. Best is trial 0 with value: 0.978089421252372.\n",
      "[I 2025-05-04 00:11:19,383] Trial 4 finished with value: 0.9571770240354205 and parameters: {'penalty': 'l2', 'solver': 'saga', 'C': 0.016752380664667253, 'l1_ratio': 0.41999418273439026}. Best is trial 0 with value: 0.978089421252372.\n",
      "[I 2025-05-04 00:11:19,879] Trial 5 pruned. \n",
      "[I 2025-05-04 00:11:22,224] Trial 6 finished with value: 0.9749644212523719 and parameters: {'penalty': 'elasticnet', 'solver': 'saga', 'C': 0.2971498230193277, 'l1_ratio': 0.8058973567447765}. Best is trial 0 with value: 0.978089421252372.\n",
      "[I 2025-05-04 00:11:24,773] Trial 7 finished with value: 0.9677162397216952 and parameters: {'penalty': 'elasticnet', 'solver': 'saga', 'C': 0.97064969953793, 'l1_ratio': 0.7207573486818153}. Best is trial 0 with value: 0.978089421252372.\n",
      "[I 2025-05-04 00:11:25,293] Trial 8 pruned. \n",
      "[I 2025-05-04 00:11:25,807] Trial 9 pruned. \n",
      "[I 2025-05-04 00:11:26,351] Trial 10 pruned. \n"
     ]
    },
    {
     "name": "stdout",
     "output_type": "stream",
     "text": [
      "EARLY STOPPING: No improvement after 10 trials!\n",
      "--> Best trial is 0 with value: 0.978089421252372 and parameters: {'penalty': 'l1', 'solver': 'saga', 'C': 0.40567950834370875, 'l1_ratio': 0.783497223945947}\n",
      "\n",
      "For model LogisticRegression the best parameters are {'penalty': 'l1', 'solver': 'saga', 'C': 0.40567950834370875, 'l1_ratio': 0.783497223945947}\n",
      "Bootstrapped 95% CIs (Model trained on dev, tested on val):\n",
      "Balanced Accuracy: [0.8850, 0.9868]\n",
      "F1 Score       : [0.8525, 0.9846]\n",
      "Precision      : [0.8484, 1.0000]\n",
      "Recall         : [0.8065, 1.0000]\n",
      "MCC            : [0.7864, 0.9778]\n",
      "ROC AUC        : [0.9504, 0.9974]\n"
     ]
    },
    {
     "name": "stderr",
     "output_type": "stream",
     "text": [
      "[I 2025-05-04 00:13:32,703] A new study created in memory with name: Winner:LogisticRegression\n"
     ]
    },
    {
     "name": "stdout",
     "output_type": "stream",
     "text": [
      "PR AUC         : [0.9256, 0.9950]\n",
      "Specificity         : 0.9706\n",
      "NPV                 : 0.9565\n"
     ]
    },
    {
     "name": "stderr",
     "output_type": "stream",
     "text": [
      "[I 2025-05-04 00:13:35,033] Trial 0 finished with value: 0.9649856612685559 and parameters: {'penalty': 'l2', 'solver': 'saga', 'C': 0.02103631129472949, 'l1_ratio': 0.48923943275887105}. Best is trial 0 with value: 0.9649856612685559.\n",
      "[I 2025-05-04 00:13:37,370] Trial 1 finished with value: 0.9114199561403508 and parameters: {'penalty': 'l2', 'solver': 'saga', 'C': 0.0013454992498764897, 'l1_ratio': 0.31490953383075226}. Best is trial 0 with value: 0.9649856612685559.\n",
      "[I 2025-05-04 00:13:39,709] Trial 2 finished with value: 0.966011302294197 and parameters: {'penalty': 'l1', 'solver': 'saga', 'C': 0.11693188945350685, 'l1_ratio': 0.4688928009864721}. Best is trial 2 with value: 0.966011302294197.\n",
      "[I 2025-05-04 00:13:41,923] Trial 3 finished with value: 0.9649856612685559 and parameters: {'penalty': 'l2', 'solver': 'saga', 'C': 0.020832960138935642, 'l1_ratio': 0.11085395548077437}. Best is trial 2 with value: 0.966011302294197.\n",
      "[I 2025-05-04 00:13:44,245] Trial 4 finished with value: 0.9686428812415654 and parameters: {'penalty': 'l2', 'solver': 'saga', 'C': 0.12331399234746586, 'l1_ratio': 0.1164252739260766}. Best is trial 4 with value: 0.9686428812415654.\n",
      "[I 2025-05-04 00:13:46,544] Trial 5 finished with value: 0.9686428812415654 and parameters: {'penalty': 'l2', 'solver': 'saga', 'C': 0.14815249394519056, 'l1_ratio': 0.08007134127964155}. Best is trial 4 with value: 0.9686428812415654.\n",
      "[I 2025-05-04 00:13:46,995] Trial 6 pruned. \n",
      "[I 2025-05-04 00:13:47,430] Trial 7 pruned. \n",
      "[I 2025-05-04 00:13:49,642] Trial 8 finished with value: 0.9686428812415654 and parameters: {'penalty': 'l2', 'solver': 'saga', 'C': 0.11359633617793422, 'l1_ratio': 0.21349408073182796}. Best is trial 4 with value: 0.9686428812415654.\n",
      "[I 2025-05-04 00:13:52,026] Trial 9 finished with value: 0.9686428812415654 and parameters: {'penalty': 'elasticnet', 'solver': 'saga', 'C': 0.21703467838683596, 'l1_ratio': 0.6258120174704386}. Best is trial 4 with value: 0.9686428812415654.\n",
      "[I 2025-05-04 00:13:54,395] Trial 10 finished with value: 0.9643813259109312 and parameters: {'penalty': 'l1', 'solver': 'saga', 'C': 0.5051900292722656, 'l1_ratio': 0.99020967974048}. Best is trial 4 with value: 0.9686428812415654.\n",
      "[I 2025-05-04 00:13:56,707] Trial 11 finished with value: 0.9690207489878542 and parameters: {'penalty': 'l2', 'solver': 'saga', 'C': 0.530788709429508, 'l1_ratio': 0.011788763848246564}. Best is trial 11 with value: 0.9690207489878542.\n",
      "[I 2025-05-04 00:13:59,011] Trial 12 finished with value: 0.9674822874493927 and parameters: {'penalty': 'l2', 'solver': 'saga', 'C': 0.7141252256246475, 'l1_ratio': 0.004460638493988894}. Best is trial 11 with value: 0.9690207489878542.\n",
      "[I 2025-05-04 00:14:01,307] Trial 13 finished with value: 0.9686428812415654 and parameters: {'penalty': 'l2', 'solver': 'saga', 'C': 0.058241781360153684, 'l1_ratio': 0.35619753931104164}. Best is trial 11 with value: 0.9690207489878542.\n",
      "[I 2025-05-04 00:14:03,616] Trial 14 finished with value: 0.9701138663967612 and parameters: {'penalty': 'l2', 'solver': 'saga', 'C': 0.8963759183083861, 'l1_ratio': 0.7804628641551964}. Best is trial 14 with value: 0.9701138663967612.\n",
      "[I 2025-05-04 00:14:05,951] Trial 15 finished with value: 0.9674822874493927 and parameters: {'penalty': 'elasticnet', 'solver': 'saga', 'C': 0.9729647658581435, 'l1_ratio': 0.763069234662699}. Best is trial 14 with value: 0.9701138663967612.\n",
      "[I 2025-05-04 00:14:08,315] Trial 16 finished with value: 0.9701138663967612 and parameters: {'penalty': 'l2', 'solver': 'saga', 'C': 0.3489717799292067, 'l1_ratio': 0.8228782660531352}. Best is trial 14 with value: 0.9701138663967612.\n",
      "[I 2025-05-04 00:14:10,666] Trial 17 finished with value: 0.9701138663967612 and parameters: {'penalty': 'l2', 'solver': 'saga', 'C': 0.31576448573530624, 'l1_ratio': 0.8909349457621649}. Best is trial 14 with value: 0.9701138663967612.\n",
      "[I 2025-05-04 00:14:12,922] Trial 18 finished with value: 0.9607481443994603 and parameters: {'penalty': 'elasticnet', 'solver': 'saga', 'C': 0.04922942991129225, 'l1_ratio': 0.7016262008636132}. Best is trial 14 with value: 0.9701138663967612.\n",
      "[I 2025-05-04 00:14:15,189] Trial 19 finished with value: 0.9618172233468286 and parameters: {'penalty': 'l1', 'solver': 'saga', 'C': 0.3856301763928043, 'l1_ratio': 0.796399718492279}. Best is trial 14 with value: 0.9701138663967612.\n",
      "[I 2025-05-04 00:14:17,563] Trial 20 finished with value: 0.9701138663967612 and parameters: {'penalty': 'l2', 'solver': 'saga', 'C': 0.8780463479666158, 'l1_ratio': 0.6056592807399409}. Best is trial 14 with value: 0.9701138663967612.\n",
      "[I 2025-05-04 00:14:19,840] Trial 21 finished with value: 0.9701138663967612 and parameters: {'penalty': 'l2', 'solver': 'saga', 'C': 0.2824657060880895, 'l1_ratio': 0.9435430834551989}. Best is trial 14 with value: 0.9701138663967612.\n",
      "[I 2025-05-04 00:14:22,136] Trial 22 finished with value: 0.9701138663967612 and parameters: {'penalty': 'l2', 'solver': 'saga', 'C': 0.2438091938378075, 'l1_ratio': 0.8731155508404561}. Best is trial 14 with value: 0.9701138663967612.\n",
      "[I 2025-05-04 00:14:24,397] Trial 23 finished with value: 0.9716523279352227 and parameters: {'penalty': 'l2', 'solver': 'saga', 'C': 0.3818572869947331, 'l1_ratio': 0.8757660645514407}. Best is trial 23 with value: 0.9716523279352227.\n",
      "[I 2025-05-04 00:14:26,727] Trial 24 finished with value: 0.9690207489878542 and parameters: {'penalty': 'l2', 'solver': 'saga', 'C': 0.5349345786680723, 'l1_ratio': 0.8376453592207849}. Best is trial 23 with value: 0.9716523279352227.\n",
      "[I 2025-05-04 00:14:27,204] Trial 25 pruned. \n",
      "[I 2025-05-04 00:14:29,474] Trial 26 finished with value: 0.9685513663967612 and parameters: {'penalty': 'l2', 'solver': 'saga', 'C': 0.21020770685245674, 'l1_ratio': 0.643653775324534}. Best is trial 23 with value: 0.9716523279352227.\n",
      "[I 2025-05-04 00:14:31,801] Trial 27 finished with value: 0.9701138663967612 and parameters: {'penalty': 'l2', 'solver': 'saga', 'C': 0.9775740003288426, 'l1_ratio': 0.560692219061834}. Best is trial 23 with value: 0.9716523279352227.\n",
      "[I 2025-05-04 00:14:32,260] Trial 28 pruned. \n",
      "[I 2025-05-04 00:14:32,732] Trial 29 pruned. \n",
      "[I 2025-05-04 00:14:35,083] Trial 30 finished with value: 0.9674822874493927 and parameters: {'penalty': 'l2', 'solver': 'saga', 'C': 0.5818302791480197, 'l1_ratio': 0.49530136690142806}. Best is trial 23 with value: 0.9716523279352227.\n",
      "[I 2025-05-04 00:14:37,463] Trial 31 finished with value: 0.9701138663967612 and parameters: {'penalty': 'l2', 'solver': 'saga', 'C': 0.37067129500631546, 'l1_ratio': 0.8641188426906101}. Best is trial 23 with value: 0.9716523279352227.\n",
      "[I 2025-05-04 00:14:39,803] Trial 32 finished with value: 0.9701138663967612 and parameters: {'penalty': 'l2', 'solver': 'saga', 'C': 0.3345882932987385, 'l1_ratio': 0.9028413044199144}. Best is trial 23 with value: 0.9716523279352227.\n",
      "[I 2025-05-04 00:14:40,280] Trial 33 pruned. \n"
     ]
    },
    {
     "name": "stdout",
     "output_type": "stream",
     "text": [
      "EARLY STOPPING: No improvement after 10 trials!\n",
      "--> Best trial is 23 with value: 0.9716523279352227 and parameters: {'penalty': 'l2', 'solver': 'saga', 'C': 0.3818572869947331, 'l1_ratio': 0.8757660645514407}\n",
      "\n",
      "For model LogisticRegression the best parameters are {'penalty': 'l2', 'solver': 'saga', 'C': 0.3818572869947331, 'l1_ratio': 0.8757660645514407}\n"
     ]
    }
   ],
   "source": [
    "if my_file.is_file():\n",
    "    results_df=pd.read_csv(\"../data/rncv_summary_results.csv\")\n",
    "\n",
    "results_df=replace_column(df=results_df,to_be_replaced='Unnamed: 0',to_be_added='Model')\n",
    "\n",
    "results_df.to_csv(\"../data/rncv_summary_results.csv\",index=False)\n",
    "\n",
    "if my_file.is_file():\n",
    "    results_df=pd.read_csv(\"../data/rncv_summary_results.csv\")\n",
    "\n",
    "\n",
    "winner=get_winner(summary=results_df)\n",
    "\n",
    "print(f\"The winner method is {winner[0]} with {winner[1]}/{results_df.shape[1]-1} metrics\\n ALL HAIL THE KING!\")\n",
    "\n",
    "df_dev=pd.read_csv('../data/dev_breast_cancer.csv')\n",
    "df_complete=pd.read_csv('../data/breast_cancer.csv')\n",
    "df_val=pd.read_csv('../data/val_clean_breast_cancer.csv')\n",
    "\n",
    "tuned_winner_dev=winner_tuning(df=df_dev,winner=winner[0])\n",
    "\n",
    "bootstrap_model(df_dev=df_dev,df_val=df_val,model=tuned_winner_dev)\n",
    "\n",
    "tuned_winner_complete=winner_tuning(df=df_complete,winner=winner[0])"
   ]
  }
 ],
 "metadata": {
  "kernelspec": {
   "display_name": "Python 3",
   "language": "python",
   "name": "python3"
  },
  "language_info": {
   "codemirror_mode": {
    "name": "ipython",
    "version": 3
   },
   "file_extension": ".py",
   "mimetype": "text/x-python",
   "name": "python",
   "nbconvert_exporter": "python",
   "pygments_lexer": "ipython3",
   "version": "3.10.12"
  }
 },
 "nbformat": 4,
 "nbformat_minor": 5
}
