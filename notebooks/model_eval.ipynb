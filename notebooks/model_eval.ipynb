{
 "cells": [
  {
   "cell_type": "code",
   "execution_count": 124,
   "id": "ad0194c0",
   "metadata": {},
   "outputs": [],
   "source": [
    "import sys\n",
    "import os"
   ]
  },
  {
   "cell_type": "code",
   "execution_count": 125,
   "id": "3e97061e",
   "metadata": {},
   "outputs": [
    {
     "name": "stdout",
     "output_type": "stream",
     "text": [
      "/home/sdi1700187/MLCBAss2/Assignment-2\n"
     ]
    }
   ],
   "source": [
    "# need to be able to import src\n",
    "sys.path.append(os.path.abspath(os.path.join(os.getcwd(), \"..\")))\n",
    "\n",
    "# absolute path to the src directory\n",
    "src_path = os.path.abspath(\"../src\")\n",
    "\n",
    "# Add src directory to system path\n",
    "sys.path.append(src_path)\n",
    "\n",
    "# get the /MLCBAss1/Assignment-2 path\n",
    "ass_path=sys.path[-2]\n",
    "\n",
    "print(ass_path)"
   ]
  },
  {
   "cell_type": "code",
   "execution_count": 126,
   "id": "852ae581",
   "metadata": {},
   "outputs": [
    {
     "name": "stdout",
     "output_type": "stream",
     "text": [
      "The autoreload extension is already loaded. To reload it, use:\n",
      "  %reload_ext autoreload\n"
     ]
    }
   ],
   "source": [
    "%load_ext autoreload\n",
    "%autoreload 2\n",
    "\n",
    "from functions import *"
   ]
  },
  {
   "cell_type": "code",
   "execution_count": 127,
   "id": "b906e2c4",
   "metadata": {},
   "outputs": [
    {
     "data": {
      "text/plain": [
       "Index(['id', 'diagnosis', 'radius_mean', 'texture_mean', 'perimeter_mean',\n",
       "       'area_mean', 'smoothness_mean', 'compactness_mean', 'concavity_mean',\n",
       "       'concave points_mean', 'symmetry_mean', 'fractal_dimension_mean',\n",
       "       'radius_se', 'texture_se', 'perimeter_se', 'area_se', 'smoothness_se',\n",
       "       'compactness_se', 'concavity_se', 'concave points_se', 'symmetry_se',\n",
       "       'fractal_dimension_se', 'radius_worst', 'texture_worst',\n",
       "       'perimeter_worst', 'area_worst', 'smoothness_worst',\n",
       "       'compactness_worst', 'concavity_worst', 'concave points_worst',\n",
       "       'symmetry_worst', 'fractal_dimension_worst'],\n",
       "      dtype='object')"
      ]
     },
     "execution_count": 127,
     "metadata": {},
     "output_type": "execute_result"
    }
   ],
   "source": [
    "df=pd.read_csv('../data/dev_breast_cancer.csv')\n",
    "df.columns"
   ]
  },
  {
   "cell_type": "code",
   "execution_count": 128,
   "id": "b3a4228f",
   "metadata": {},
   "outputs": [],
   "source": [
    "from pathlib import Path\n",
    "\n",
    "my_file = Path(\"../data/rncv_summary_results.csv\")\n",
    "if not my_file.is_file():\n",
    "    perform_rnCV(path='../data/dev_breast_cancer.csv')"
   ]
  },
  {
   "cell_type": "code",
   "execution_count": 129,
   "id": "0d98151d",
   "metadata": {},
   "outputs": [
    {
     "data": {
      "text/html": [
       "<div>\n",
       "<style scoped>\n",
       "    .dataframe tbody tr th:only-of-type {\n",
       "        vertical-align: middle;\n",
       "    }\n",
       "\n",
       "    .dataframe tbody tr th {\n",
       "        vertical-align: top;\n",
       "    }\n",
       "\n",
       "    .dataframe thead th {\n",
       "        text-align: right;\n",
       "    }\n",
       "</style>\n",
       "<table border=\"1\" class=\"dataframe\">\n",
       "  <thead>\n",
       "    <tr style=\"text-align: right;\">\n",
       "      <th></th>\n",
       "      <th>Unnamed: 0</th>\n",
       "      <th>MCC</th>\n",
       "      <th>ROC_AUC</th>\n",
       "      <th>Balanced_Accuracy</th>\n",
       "      <th>F1</th>\n",
       "      <th>Recall</th>\n",
       "      <th>Precision</th>\n",
       "      <th>Specificity</th>\n",
       "      <th>NPV</th>\n",
       "      <th>PR_AUC</th>\n",
       "    </tr>\n",
       "  </thead>\n",
       "  <tbody>\n",
       "    <tr>\n",
       "      <th>0</th>\n",
       "      <td>LogisticRegression</td>\n",
       "      <td>0.948422</td>\n",
       "      <td>0.997767</td>\n",
       "      <td>0.973871</td>\n",
       "      <td>0.967742</td>\n",
       "      <td>0.967742</td>\n",
       "      <td>1.000000</td>\n",
       "      <td>1.000000</td>\n",
       "      <td>0.980000</td>\n",
       "      <td>0.996595</td>\n",
       "    </tr>\n",
       "    <tr>\n",
       "      <th>1</th>\n",
       "      <td>GaussianNB</td>\n",
       "      <td>0.895876</td>\n",
       "      <td>0.989779</td>\n",
       "      <td>0.947742</td>\n",
       "      <td>0.935484</td>\n",
       "      <td>0.935484</td>\n",
       "      <td>0.920168</td>\n",
       "      <td>0.950588</td>\n",
       "      <td>0.960392</td>\n",
       "      <td>0.985479</td>\n",
       "    </tr>\n",
       "    <tr>\n",
       "      <th>2</th>\n",
       "      <td>LDA</td>\n",
       "      <td>0.923730</td>\n",
       "      <td>0.995554</td>\n",
       "      <td>0.957938</td>\n",
       "      <td>0.950820</td>\n",
       "      <td>0.935484</td>\n",
       "      <td>1.000000</td>\n",
       "      <td>1.000000</td>\n",
       "      <td>0.961161</td>\n",
       "      <td>0.993445</td>\n",
       "    </tr>\n",
       "    <tr>\n",
       "      <th>3</th>\n",
       "      <td>SVM</td>\n",
       "      <td>0.948278</td>\n",
       "      <td>0.997767</td>\n",
       "      <td>0.968246</td>\n",
       "      <td>0.967204</td>\n",
       "      <td>0.937500</td>\n",
       "      <td>1.000000</td>\n",
       "      <td>1.000000</td>\n",
       "      <td>0.961901</td>\n",
       "      <td>0.996595</td>\n",
       "    </tr>\n",
       "    <tr>\n",
       "      <th>4</th>\n",
       "      <td>RandomForest</td>\n",
       "      <td>0.923349</td>\n",
       "      <td>0.994250</td>\n",
       "      <td>0.961507</td>\n",
       "      <td>0.952381</td>\n",
       "      <td>0.937500</td>\n",
       "      <td>0.967204</td>\n",
       "      <td>0.980000</td>\n",
       "      <td>0.962264</td>\n",
       "      <td>0.991453</td>\n",
       "    </tr>\n",
       "    <tr>\n",
       "      <th>5</th>\n",
       "      <td>LightGBM</td>\n",
       "      <td>0.922699</td>\n",
       "      <td>0.994624</td>\n",
       "      <td>0.961310</td>\n",
       "      <td>0.952381</td>\n",
       "      <td>0.935484</td>\n",
       "      <td>0.966667</td>\n",
       "      <td>0.980392</td>\n",
       "      <td>0.961538</td>\n",
       "      <td>0.991969</td>\n",
       "    </tr>\n",
       "  </tbody>\n",
       "</table>\n",
       "</div>"
      ],
      "text/plain": [
       "           Unnamed: 0       MCC   ROC_AUC  Balanced_Accuracy        F1  \\\n",
       "0  LogisticRegression  0.948422  0.997767           0.973871  0.967742   \n",
       "1          GaussianNB  0.895876  0.989779           0.947742  0.935484   \n",
       "2                 LDA  0.923730  0.995554           0.957938  0.950820   \n",
       "3                 SVM  0.948278  0.997767           0.968246  0.967204   \n",
       "4        RandomForest  0.923349  0.994250           0.961507  0.952381   \n",
       "5            LightGBM  0.922699  0.994624           0.961310  0.952381   \n",
       "\n",
       "     Recall  Precision  Specificity       NPV    PR_AUC  \n",
       "0  0.967742   1.000000     1.000000  0.980000  0.996595  \n",
       "1  0.935484   0.920168     0.950588  0.960392  0.985479  \n",
       "2  0.935484   1.000000     1.000000  0.961161  0.993445  \n",
       "3  0.937500   1.000000     1.000000  0.961901  0.996595  \n",
       "4  0.937500   0.967204     0.980000  0.962264  0.991453  \n",
       "5  0.935484   0.966667     0.980392  0.961538  0.991969  "
      ]
     },
     "execution_count": 129,
     "metadata": {},
     "output_type": "execute_result"
    }
   ],
   "source": [
    "if my_file.is_file():\n",
    "    results_df=pd.read_csv(\"../data/rncv_summary_results.csv\")\n",
    "\n",
    "results_df"
   ]
  }
 ],
 "metadata": {
  "kernelspec": {
   "display_name": "Python 3",
   "language": "python",
   "name": "python3"
  },
  "language_info": {
   "codemirror_mode": {
    "name": "ipython",
    "version": 3
   },
   "file_extension": ".py",
   "mimetype": "text/x-python",
   "name": "python",
   "nbconvert_exporter": "python",
   "pygments_lexer": "ipython3",
   "version": "3.10.12"
  }
 },
 "nbformat": 4,
 "nbformat_minor": 5
}
