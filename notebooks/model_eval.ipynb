{
 "cells": [
  {
   "cell_type": "code",
   "execution_count": 11,
   "id": "ad0194c0",
   "metadata": {},
   "outputs": [],
   "source": [
    "import sys\n",
    "import os"
   ]
  },
  {
   "cell_type": "code",
   "execution_count": 12,
   "id": "3e97061e",
   "metadata": {},
   "outputs": [
    {
     "name": "stdout",
     "output_type": "stream",
     "text": [
      "/home/sdi1700187/MLCBAss2/Assignment-2\n"
     ]
    }
   ],
   "source": [
    "# need to be able to import src\n",
    "sys.path.append(os.path.abspath(os.path.join(os.getcwd(), \"..\")))\n",
    "\n",
    "# absolute path to the src directory\n",
    "src_path = os.path.abspath(\"../src\")\n",
    "\n",
    "# Add src directory to system path\n",
    "sys.path.append(src_path)\n",
    "\n",
    "# get the /MLCBAss1/Assignment-2 path\n",
    "ass_path=sys.path[-2]\n",
    "\n",
    "print(ass_path)"
   ]
  },
  {
   "cell_type": "code",
   "execution_count": 13,
   "id": "852ae581",
   "metadata": {},
   "outputs": [
    {
     "name": "stdout",
     "output_type": "stream",
     "text": [
      "The autoreload extension is already loaded. To reload it, use:\n",
      "  %reload_ext autoreload\n"
     ]
    }
   ],
   "source": [
    "%load_ext autoreload\n",
    "%autoreload 2\n",
    "\n",
    "from functions import *"
   ]
  },
  {
   "cell_type": "code",
   "execution_count": 14,
   "id": "b906e2c4",
   "metadata": {},
   "outputs": [
    {
     "data": {
      "text/plain": [
       "Index(['id', 'diagnosis', 'radius_mean', 'texture_mean', 'perimeter_mean',\n",
       "       'area_mean', 'smoothness_mean', 'compactness_mean', 'concavity_mean',\n",
       "       'concave points_mean', 'symmetry_mean', 'fractal_dimension_mean',\n",
       "       'radius_se', 'texture_se', 'perimeter_se', 'area_se', 'smoothness_se',\n",
       "       'compactness_se', 'concavity_se', 'concave points_se', 'symmetry_se',\n",
       "       'fractal_dimension_se', 'radius_worst', 'texture_worst',\n",
       "       'perimeter_worst', 'area_worst', 'smoothness_worst',\n",
       "       'compactness_worst', 'concavity_worst', 'concave points_worst',\n",
       "       'symmetry_worst', 'fractal_dimension_worst'],\n",
       "      dtype='object')"
      ]
     },
     "execution_count": 14,
     "metadata": {},
     "output_type": "execute_result"
    }
   ],
   "source": [
    "df=pd.read_csv('../data/dev_breast_cancer.csv')\n",
    "df.columns"
   ]
  },
  {
   "cell_type": "code",
   "execution_count": 15,
   "id": "b3a4228f",
   "metadata": {},
   "outputs": [],
   "source": [
    "from pathlib import Path\n",
    "\n",
    "my_file = Path(\"../data/rncv_summary_results.csv\")\n",
    "if not my_file.is_file():\n",
    "    perform_rnCV(path='../data/dev_breast_cancer.csv')"
   ]
  },
  {
   "cell_type": "code",
   "execution_count": 18,
   "id": "0d98151d",
   "metadata": {},
   "outputs": [
    {
     "name": "stderr",
     "output_type": "stream",
     "text": [
      "[I 2025-05-03 23:35:52,744] A new study created in memory with name: Winner:LogisticRegression\n"
     ]
    },
    {
     "name": "stdout",
     "output_type": "stream",
     "text": [
      "The winner method is LogisticRegression with 9/9 metrics\n",
      " ALL HAIL THE KING!\n"
     ]
    },
    {
     "name": "stderr",
     "output_type": "stream",
     "text": [
      "[I 2025-05-03 23:35:55,317] Trial 0 finished with value: 0.9696770240354207 and parameters: {'penalty': 'l1', 'solver': 'saga', 'C': 0.916341316021186, 'l1_ratio': 0.040280601266928784}. Best is trial 0 with value: 0.9696770240354207.\n",
      "[I 2025-05-03 23:35:57,821] Trial 1 finished with value: 0.9677162397216952 and parameters: {'penalty': 'elasticnet', 'solver': 'saga', 'C': 0.3799039510070142, 'l1_ratio': 0.20737488056585374}. Best is trial 0 with value: 0.9696770240354207.\n",
      "[I 2025-05-03 23:36:00,217] Trial 2 finished with value: 0.9337345825426946 and parameters: {'penalty': 'l2', 'solver': 'saga', 'C': 0.0021454786567924665, 'l1_ratio': 0.9177200545523885}. Best is trial 0 with value: 0.9696770240354207.\n",
      "[I 2025-05-03 23:36:02,758] Trial 3 finished with value: 0.9592386148007591 and parameters: {'penalty': 'l1', 'solver': 'saga', 'C': 0.07659443990160733, 'l1_ratio': 0.9807544973945443}. Best is trial 0 with value: 0.9696770240354207.\n",
      "[I 2025-05-03 23:36:05,244] Trial 4 finished with value: 0.9424138203668564 and parameters: {'penalty': 'l2', 'solver': 'saga', 'C': 0.0043944791085190876, 'l1_ratio': 0.36351186634540134}. Best is trial 0 with value: 0.9696770240354207.\n",
      "[I 2025-05-03 23:36:07,655] Trial 5 finished with value: 0.9677162397216952 and parameters: {'penalty': 'elasticnet', 'solver': 'saga', 'C': 0.34250823912155076, 'l1_ratio': 0.3070122383103565}. Best is trial 0 with value: 0.9696770240354207.\n",
      "[I 2025-05-03 23:36:08,127] Trial 6 pruned. \n",
      "[I 2025-05-03 23:36:08,599] Trial 7 pruned. \n",
      "[I 2025-05-03 23:36:09,097] Trial 8 pruned. \n",
      "[I 2025-05-03 23:36:09,662] Trial 9 pruned. \n",
      "[I 2025-05-03 23:36:12,590] Trial 10 finished with value: 0.9716378083491461 and parameters: {'penalty': 'l1', 'solver': 'saga', 'C': 0.6068815299222138, 'l1_ratio': 0.004397367125133077}. Best is trial 10 with value: 0.9716378083491461.\n",
      "[I 2025-05-03 23:36:15,045] Trial 11 finished with value: 0.9716378083491461 and parameters: {'penalty': 'l1', 'solver': 'saga', 'C': 0.8357325731372962, 'l1_ratio': 0.028518870620498092}. Best is trial 10 with value: 0.9716378083491461.\n",
      "[I 2025-05-03 23:36:15,565] Trial 12 pruned. \n",
      "[I 2025-05-03 23:36:18,552] Trial 13 finished with value: 0.9696770240354207 and parameters: {'penalty': 'l1', 'solver': 'saga', 'C': 0.9898997522939499, 'l1_ratio': 0.17515349982107428}. Best is trial 10 with value: 0.9716378083491461.\n",
      "[I 2025-05-03 23:36:19,183] Trial 14 pruned. \n",
      "[I 2025-05-03 23:36:19,683] Trial 15 pruned. \n",
      "[I 2025-05-03 23:36:20,217] Trial 16 pruned. \n",
      "[I 2025-05-03 23:36:22,555] Trial 17 finished with value: 0.9748636148007591 and parameters: {'penalty': 'l1', 'solver': 'saga', 'C': 0.5871367889056267, 'l1_ratio': 0.12681444783781523}. Best is trial 17 with value: 0.9748636148007591.\n",
      "[I 2025-05-03 23:36:24,974] Trial 18 finished with value: 0.9677162397216952 and parameters: {'penalty': 'l2', 'solver': 'saga', 'C': 0.39976735723467216, 'l1_ratio': 0.26638020612010954}. Best is trial 17 with value: 0.9748636148007591.\n",
      "[I 2025-05-03 23:36:25,612] Trial 19 pruned. \n",
      "[I 2025-05-03 23:36:26,207] Trial 20 pruned. \n",
      "[I 2025-05-03 23:36:28,898] Trial 21 finished with value: 0.9748636148007591 and parameters: {'penalty': 'l1', 'solver': 'saga', 'C': 0.5149006376096623, 'l1_ratio': 0.10698131301427319}. Best is trial 17 with value: 0.9748636148007591.\n",
      "[I 2025-05-03 23:36:31,373] Trial 22 finished with value: 0.9748636148007591 and parameters: {'penalty': 'l1', 'solver': 'saga', 'C': 0.5245609213513953, 'l1_ratio': 0.11623457601011136}. Best is trial 17 with value: 0.9748636148007591.\n",
      "[I 2025-05-03 23:36:31,873] Trial 23 pruned. \n",
      "[I 2025-05-03 23:36:34,463] Trial 24 finished with value: 0.9748636148007591 and parameters: {'penalty': 'l1', 'solver': 'saga', 'C': 0.5580650715501442, 'l1_ratio': 0.3176446955393549}. Best is trial 17 with value: 0.9748636148007591.\n",
      "[I 2025-05-03 23:36:34,975] Trial 25 pruned. \n",
      "[I 2025-05-03 23:36:35,517] Trial 26 pruned. \n",
      "[I 2025-05-03 23:36:38,060] Trial 27 finished with value: 0.978089421252372 and parameters: {'penalty': 'l1', 'solver': 'saga', 'C': 0.499209471329431, 'l1_ratio': 0.42475932442190256}. Best is trial 27 with value: 0.978089421252372.\n",
      "[I 2025-05-03 23:36:38,597] Trial 28 pruned. \n",
      "[I 2025-05-03 23:36:41,017] Trial 29 finished with value: 0.9696770240354207 and parameters: {'penalty': 'l1', 'solver': 'saga', 'C': 0.9396303382088137, 'l1_ratio': 0.4176679021532618}. Best is trial 27 with value: 0.978089421252372.\n",
      "[I 2025-05-03 23:36:41,514] Trial 30 pruned. \n",
      "[I 2025-05-03 23:36:43,905] Trial 31 finished with value: 0.9748636148007591 and parameters: {'penalty': 'l1', 'solver': 'saga', 'C': 0.5228207690898005, 'l1_ratio': 0.07558022452657553}. Best is trial 27 with value: 0.978089421252372.\n",
      "[I 2025-05-03 23:36:44,412] Trial 32 pruned. \n",
      "[I 2025-05-03 23:36:46,795] Trial 33 finished with value: 0.9748636148007591 and parameters: {'penalty': 'l1', 'solver': 'saga', 'C': 0.5351841847150455, 'l1_ratio': 0.17283452418400236}. Best is trial 27 with value: 0.978089421252372.\n",
      "[I 2025-05-03 23:36:47,281] Trial 34 pruned. \n",
      "[I 2025-05-03 23:36:49,625] Trial 35 finished with value: 0.9716378083491461 and parameters: {'penalty': 'l1', 'solver': 'saga', 'C': 0.7004803978966266, 'l1_ratio': 0.6973718688419076}. Best is trial 27 with value: 0.978089421252372.\n",
      "[I 2025-05-03 23:36:50,123] Trial 36 pruned. \n",
      "[I 2025-05-03 23:36:52,479] Trial 37 finished with value: 0.9677162397216952 and parameters: {'penalty': 'l2', 'solver': 'saga', 'C': 0.4196085833447499, 'l1_ratio': 0.226989734778978}. Best is trial 27 with value: 0.978089421252372.\n"
     ]
    },
    {
     "name": "stdout",
     "output_type": "stream",
     "text": [
      "EARLY STOPPING: No improvement after 10 trials!\n",
      "--> Best trial is 27 with value: 0.978089421252372 and parameters: {'penalty': 'l1', 'solver': 'saga', 'C': 0.499209471329431, 'l1_ratio': 0.42475932442190256}\n",
      "\n",
      "For model LogisticRegression the best parameters are {'penalty': 'l1', 'solver': 'saga', 'C': 0.499209471329431, 'l1_ratio': 0.42475932442190256}\n",
      "Bootstrapped 95% CIs (Model trained on dev, tested on val):\n",
      "Balanced Accuracy: [0.8769, 0.9800]\n",
      "F1 Score       : [0.8333, 0.9730]\n",
      "Precision      : [0.8095, 1.0000]\n",
      "Recall         : [0.8065, 1.0000]\n",
      "MCC            : [0.7586, 0.9582]\n",
      "ROC AUC        : [0.9544, 0.9974]\n"
     ]
    },
    {
     "name": "stderr",
     "output_type": "stream",
     "text": [
      "[I 2025-05-03 23:39:00,225] A new study created in memory with name: Winner:LogisticRegression\n"
     ]
    },
    {
     "name": "stdout",
     "output_type": "stream",
     "text": [
      "PR AUC         : [0.9292, 0.9952]\n",
      "Specificity         : 0.9559\n",
      "NPV                 : 0.9559\n"
     ]
    },
    {
     "name": "stderr",
     "output_type": "stream",
     "text": [
      "[I 2025-05-03 23:39:02,616] Trial 0 finished with value: 0.9644728407557354 and parameters: {'penalty': 'l1', 'solver': 'saga', 'C': 0.13636494342296943, 'l1_ratio': 0.9573372611491269}. Best is trial 0 with value: 0.9644728407557354.\n",
      "[I 2025-05-03 23:39:05,139] Trial 1 finished with value: 0.5 and parameters: {'penalty': 'l1', 'solver': 'saga', 'C': 0.003320178037526629, 'l1_ratio': 0.5060830773038687}. Best is trial 0 with value: 0.9644728407557354.\n",
      "[I 2025-05-03 23:39:07,705] Trial 2 finished with value: 0.9674822874493927 and parameters: {'penalty': 'l2', 'solver': 'saga', 'C': 0.5633624693429673, 'l1_ratio': 0.7248615558436405}. Best is trial 2 with value: 0.9674822874493927.\n",
      "[I 2025-05-03 23:39:10,159] Trial 3 finished with value: 0.5 and parameters: {'penalty': 'elasticnet', 'solver': 'saga', 'C': 0.0046745855214872555, 'l1_ratio': 0.86834804450254}. Best is trial 2 with value: 0.9674822874493927.\n",
      "[I 2025-05-03 23:39:12,572] Trial 4 finished with value: 0.9502652665317137 and parameters: {'penalty': 'l2', 'solver': 'saga', 'C': 0.008616800618735616, 'l1_ratio': 0.6443474256539402}. Best is trial 2 with value: 0.9674822874493927.\n",
      "[I 2025-05-03 23:39:15,230] Trial 5 finished with value: 0.9649422233468286 and parameters: {'penalty': 'l1', 'solver': 'saga', 'C': 0.08781547935391106, 'l1_ratio': 0.34465586803959725}. Best is trial 2 with value: 0.9674822874493927.\n",
      "[I 2025-05-03 23:39:17,694] Trial 6 finished with value: 0.9701138663967612 and parameters: {'penalty': 'l2', 'solver': 'saga', 'C': 0.30160407900433667, 'l1_ratio': 0.3018216608320956}. Best is trial 6 with value: 0.9701138663967612.\n",
      "[I 2025-05-03 23:39:20,064] Trial 7 finished with value: 0.9675497638326587 and parameters: {'penalty': 'l2', 'solver': 'saga', 'C': 0.023362626953520583, 'l1_ratio': 0.07854622147497581}. Best is trial 6 with value: 0.9701138663967612.\n",
      "[I 2025-05-03 23:39:22,667] Trial 8 finished with value: 0.9649422233468286 and parameters: {'penalty': 'l1', 'solver': 'saga', 'C': 0.0997288310122042, 'l1_ratio': 0.2751329050884611}. Best is trial 6 with value: 0.9701138663967612.\n",
      "[I 2025-05-03 23:39:23,176] Trial 9 pruned. \n",
      "[I 2025-05-03 23:39:25,743] Trial 10 finished with value: 0.9674822874493927 and parameters: {'penalty': 'elasticnet', 'solver': 'saga', 'C': 0.7935428734742528, 'l1_ratio': 0.05309567129755943}. Best is trial 6 with value: 0.9701138663967612.\n",
      "[I 2025-05-03 23:39:26,339] Trial 11 pruned. \n",
      "[I 2025-05-03 23:39:29,129] Trial 12 finished with value: 0.9675497638326587 and parameters: {'penalty': 'l2', 'solver': 'saga', 'C': 0.026597830210861713, 'l1_ratio': 0.2372760686421766}. Best is trial 6 with value: 0.9701138663967612.\n",
      "[I 2025-05-03 23:39:31,812] Trial 13 finished with value: 0.9701138663967612 and parameters: {'penalty': 'l2', 'solver': 'saga', 'C': 0.2583329979592624, 'l1_ratio': 0.1704213564424844}. Best is trial 6 with value: 0.9701138663967612.\n",
      "[I 2025-05-03 23:39:34,367] Trial 14 finished with value: 0.9701138663967612 and parameters: {'penalty': 'l2', 'solver': 'saga', 'C': 0.27997968616852736, 'l1_ratio': 0.42718518994284377}. Best is trial 6 with value: 0.9701138663967612.\n",
      "[I 2025-05-03 23:39:36,917] Trial 15 finished with value: 0.9701138663967612 and parameters: {'penalty': 'l2', 'solver': 'saga', 'C': 0.3009027743346946, 'l1_ratio': 0.17322045450022422}. Best is trial 6 with value: 0.9701138663967612.\n",
      "[I 2025-05-03 23:39:39,363] Trial 16 finished with value: 0.9686428812415654 and parameters: {'penalty': 'l2', 'solver': 'saga', 'C': 0.05542356624983663, 'l1_ratio': 0.5095676983527767}. Best is trial 6 with value: 0.9701138663967612.\n"
     ]
    },
    {
     "name": "stdout",
     "output_type": "stream",
     "text": [
      "EARLY STOPPING: No improvement after 10 trials!\n",
      "--> Best trial is 6 with value: 0.9701138663967612 and parameters: {'penalty': 'l2', 'solver': 'saga', 'C': 0.30160407900433667, 'l1_ratio': 0.3018216608320956}\n",
      "\n",
      "For model LogisticRegression the best parameters are {'penalty': 'l2', 'solver': 'saga', 'C': 0.30160407900433667, 'l1_ratio': 0.3018216608320956}\n"
     ]
    }
   ],
   "source": [
    "if my_file.is_file():\n",
    "    results_df=pd.read_csv(\"../data/rncv_summary_results.csv\")\n",
    "\n",
    "results_df=replace_column(df=results_df,to_be_replaced='Unnamed: 0',to_be_added='Model')\n",
    "\n",
    "results_df.to_csv(\"../data/rncv_summary_results.csv\",index=False)\n",
    "\n",
    "if my_file.is_file():\n",
    "    results_df=pd.read_csv(\"../data/rncv_summary_results.csv\")\n",
    "\n",
    "\n",
    "winner=get_winner(summary=results_df)\n",
    "\n",
    "print(f\"The winner method is {winner[0]} with {winner[1]}/{results_df.shape[1]-1} metrics\\n ALL HAIL THE KING!\")\n",
    "\n",
    "df_dev=pd.read_csv('../data/dev_breast_cancer.csv')\n",
    "df_complete=pd.read_csv('../data/breast_cancer.csv')\n",
    "df_val=pd.read_csv('../data/val_clean_breast_cancer.csv')\n",
    "\n",
    "tuned_winner_dev=winner_tuning(df=df_dev,winner=winner[0])\n",
    "\n",
    "bootstrap_model(df_dev=df_dev,df_val=df_val,model=tuned_winner_dev)\n",
    "\n",
    "tuned_winner_complete=winner_tuning(df=df_complete,winner=winner[0])"
   ]
  }
 ],
 "metadata": {
  "kernelspec": {
   "display_name": "Python 3",
   "language": "python",
   "name": "python3"
  },
  "language_info": {
   "codemirror_mode": {
    "name": "ipython",
    "version": 3
   },
   "file_extension": ".py",
   "mimetype": "text/x-python",
   "name": "python",
   "nbconvert_exporter": "python",
   "pygments_lexer": "ipython3",
   "version": "3.10.12"
  }
 },
 "nbformat": 4,
 "nbformat_minor": 5
}
