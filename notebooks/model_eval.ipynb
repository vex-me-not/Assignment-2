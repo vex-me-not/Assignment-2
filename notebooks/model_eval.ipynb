{
 "cells": [
  {
   "cell_type": "code",
   "execution_count": 4,
   "id": "ad0194c0",
   "metadata": {},
   "outputs": [],
   "source": [
    "import sys\n",
    "import os"
   ]
  },
  {
   "cell_type": "code",
   "execution_count": 5,
   "id": "3e97061e",
   "metadata": {},
   "outputs": [
    {
     "name": "stdout",
     "output_type": "stream",
     "text": [
      "/home/sdi1700187/MLCBAss2/Assignment-2\n"
     ]
    }
   ],
   "source": [
    "# need to be able to import src\n",
    "sys.path.append(os.path.abspath(os.path.join(os.getcwd(), \"..\")))\n",
    "\n",
    "# absolute path to the src directory\n",
    "src_path = os.path.abspath(\"../src\")\n",
    "\n",
    "# Add src directory to system path\n",
    "sys.path.append(src_path)\n",
    "\n",
    "# get the /MLCBAss1/Assignment-2 path\n",
    "ass_path=sys.path[-2]\n",
    "\n",
    "print(ass_path)"
   ]
  },
  {
   "cell_type": "code",
   "execution_count": 6,
   "id": "852ae581",
   "metadata": {},
   "outputs": [
    {
     "name": "stdout",
     "output_type": "stream",
     "text": [
      "The autoreload extension is already loaded. To reload it, use:\n",
      "  %reload_ext autoreload\n"
     ]
    }
   ],
   "source": [
    "%load_ext autoreload\n",
    "%autoreload 2\n",
    "\n",
    "from functions import *"
   ]
  },
  {
   "cell_type": "code",
   "execution_count": 7,
   "id": "b906e2c4",
   "metadata": {},
   "outputs": [
    {
     "data": {
      "text/plain": [
       "Index(['id', 'diagnosis', 'radius_mean', 'texture_mean', 'perimeter_mean',\n",
       "       'area_mean', 'smoothness_mean', 'compactness_mean', 'concavity_mean',\n",
       "       'concave points_mean', 'symmetry_mean', 'fractal_dimension_mean',\n",
       "       'radius_se', 'texture_se', 'perimeter_se', 'area_se', 'smoothness_se',\n",
       "       'compactness_se', 'concavity_se', 'concave points_se', 'symmetry_se',\n",
       "       'fractal_dimension_se', 'radius_worst', 'texture_worst',\n",
       "       'perimeter_worst', 'area_worst', 'smoothness_worst',\n",
       "       'compactness_worst', 'concavity_worst', 'concave points_worst',\n",
       "       'symmetry_worst', 'fractal_dimension_worst'],\n",
       "      dtype='object')"
      ]
     },
     "execution_count": 7,
     "metadata": {},
     "output_type": "execute_result"
    }
   ],
   "source": [
    "df=pd.read_csv('../data/dev_breast_cancer.csv')\n",
    "df.columns"
   ]
  },
  {
   "cell_type": "code",
   "execution_count": 8,
   "id": "b3a4228f",
   "metadata": {},
   "outputs": [],
   "source": [
    "from pathlib import Path\n",
    "\n",
    "my_file = Path(\"../data/rncv_summary_results.csv\")\n",
    "if not my_file.is_file():\n",
    "    perform_rnCV(path='../data/dev_breast_cancer.csv')"
   ]
  },
  {
   "cell_type": "code",
   "execution_count": 14,
   "id": "0d98151d",
   "metadata": {},
   "outputs": [
    {
     "name": "stderr",
     "output_type": "stream",
     "text": [
      "[I 2025-05-03 19:47:50,890] A new study created in memory with name: Winner:LogisticRegression\n"
     ]
    },
    {
     "name": "stdout",
     "output_type": "stream",
     "text": [
      "The winner method is LogisticRegression with 9/9 metrics\n",
      " ALL HAIL THE KING!\n"
     ]
    },
    {
     "name": "stderr",
     "output_type": "stream",
     "text": [
      "[I 2025-05-03 19:47:53,293] Trial 0 finished with value: 0.9706752055660974 and parameters: {'penalty': 'elasticnet', 'solver': 'saga', 'C': 0.09694944724611114, 'l1_ratio': 0.8119422190091496}. Best is trial 0 with value: 0.9706752055660974.\n",
      "[I 2025-05-03 19:47:55,623] Trial 1 finished with value: 0.9706752055660974 and parameters: {'penalty': 'l1', 'solver': 'saga', 'C': 0.15815525081906173, 'l1_ratio': 0.6970963950297941}. Best is trial 0 with value: 0.9706752055660974.\n",
      "[I 2025-05-03 19:47:57,948] Trial 2 finished with value: 0.9667536369386465 and parameters: {'penalty': 'elasticnet', 'solver': 'saga', 'C': 0.18748157871355203, 'l1_ratio': 0.405293032033089}. Best is trial 0 with value: 0.9706752055660974.\n",
      "[I 2025-05-03 19:48:00,212] Trial 3 finished with value: 0.9131147216951299 and parameters: {'penalty': 'l2', 'solver': 'saga', 'C': 0.0013116244455216248, 'l1_ratio': 0.8815174957628545}. Best is trial 0 with value: 0.9706752055660974.\n",
      "[I 2025-05-03 19:48:02,531] Trial 4 finished with value: 0.9716378083491461 and parameters: {'penalty': 'l1', 'solver': 'saga', 'C': 0.6152823784177581, 'l1_ratio': 0.23232989066058707}. Best is trial 4 with value: 0.9716378083491461.\n",
      "[I 2025-05-03 19:48:04,853] Trial 5 finished with value: 0.9749644212523719 and parameters: {'penalty': 'l1', 'solver': 'saga', 'C': 0.31733434067822186, 'l1_ratio': 0.842718944755444}. Best is trial 5 with value: 0.9749644212523719.\n",
      "[I 2025-05-03 19:48:05,324] Trial 6 pruned. \n",
      "[I 2025-05-03 19:48:07,633] Trial 7 finished with value: 0.9645912397216951 and parameters: {'penalty': 'elasticnet', 'solver': 'saga', 'C': 0.14890868571643118, 'l1_ratio': 0.011453209056906832}. Best is trial 5 with value: 0.9749644212523719.\n",
      "[I 2025-05-03 19:48:08,186] Trial 8 pruned. \n",
      "[I 2025-05-03 19:48:08,673] Trial 9 pruned. \n",
      "[I 2025-05-03 19:48:11,042] Trial 10 finished with value: 0.9696770240354207 and parameters: {'penalty': 'l1', 'solver': 'saga', 'C': 0.9114635471145331, 'l1_ratio': 0.6067152709045318}. Best is trial 5 with value: 0.9749644212523719.\n",
      "[I 2025-05-03 19:48:13,349] Trial 11 finished with value: 0.9696770240354207 and parameters: {'penalty': 'l1', 'solver': 'saga', 'C': 0.9254062855029691, 'l1_ratio': 0.3843078147156376}. Best is trial 5 with value: 0.9749644212523719.\n",
      "[I 2025-05-03 19:48:15,697] Trial 12 finished with value: 0.978089421252372 and parameters: {'penalty': 'l1', 'solver': 'saga', 'C': 0.4465013760218063, 'l1_ratio': 0.30260275940174897}. Best is trial 12 with value: 0.978089421252372.\n",
      "[I 2025-05-03 19:48:16,189] Trial 13 pruned. \n",
      "[I 2025-05-03 19:48:18,527] Trial 14 finished with value: 0.9749644212523719 and parameters: {'penalty': 'l1', 'solver': 'saga', 'C': 0.33185176864313737, 'l1_ratio': 0.7060764074242822}. Best is trial 12 with value: 0.978089421252372.\n",
      "[I 2025-05-03 19:48:19,010] Trial 15 pruned. \n",
      "[I 2025-05-03 19:48:21,357] Trial 16 finished with value: 0.9677162397216952 and parameters: {'penalty': 'l2', 'solver': 'saga', 'C': 0.3736374029756675, 'l1_ratio': 0.49454216857072075}. Best is trial 12 with value: 0.978089421252372.\n",
      "[I 2025-05-03 19:48:21,894] Trial 17 pruned. \n",
      "[I 2025-05-03 19:48:22,444] Trial 18 pruned. \n",
      "[I 2025-05-03 19:48:24,796] Trial 19 finished with value: 0.9677162397216952 and parameters: {'penalty': 'l2', 'solver': 'saga', 'C': 0.33798954512000495, 'l1_ratio': 0.7627096755288589}. Best is trial 12 with value: 0.978089421252372.\n",
      "[I 2025-05-03 19:48:27,140] Trial 20 finished with value: 0.978089421252372 and parameters: {'penalty': 'l1', 'solver': 'saga', 'C': 0.49904835426264094, 'l1_ratio': 0.6123574620054324}. Best is trial 12 with value: 0.978089421252372.\n",
      "[I 2025-05-03 19:48:29,507] Trial 21 finished with value: 0.9748636148007591 and parameters: {'penalty': 'l1', 'solver': 'saga', 'C': 0.5156276395359025, 'l1_ratio': 0.5682686100489228}. Best is trial 12 with value: 0.978089421252372.\n",
      "[I 2025-05-03 19:48:30,001] Trial 22 pruned. \n"
     ]
    },
    {
     "name": "stdout",
     "output_type": "stream",
     "text": [
      "EARLY STOPPING: No improvement after 10 trials!\n",
      "--> Best trial is 12 with value: 0.978089421252372 and parameters: {'penalty': 'l1', 'solver': 'saga', 'C': 0.4465013760218063, 'l1_ratio': 0.30260275940174897}\n",
      "\n",
      "For model LogisticRegression the best parameters are {'penalty': 'l1', 'solver': 'saga', 'C': 0.4465013760218063, 'l1_ratio': 0.30260275940174897}\n"
     ]
    }
   ],
   "source": [
    "if my_file.is_file():\n",
    "    results_df=pd.read_csv(\"../data/rncv_summary_results.csv\")\n",
    "\n",
    "results_df=replace_column(df=results_df,to_be_replaced='Unnamed: 0',to_be_added='Model')\n",
    "\n",
    "results_df.to_csv(\"../data/rncv_summary_results.csv\",index=False)\n",
    "\n",
    "if my_file.is_file():\n",
    "    results_df=pd.read_csv(\"../data/rncv_summary_results.csv\")\n",
    "\n",
    "\n",
    "winner=get_winner(summary=results_df)\n",
    "\n",
    "print(f\"The winner method is {winner[0]} with {winner[1]}/{results_df.shape[1]-1} metrics\\n ALL HAIL THE KING!\")\n",
    "\n",
    "\n",
    "\n",
    "tuned_winner=winner_tuning(df=df,winner=winner[0])"
   ]
  }
 ],
 "metadata": {
  "kernelspec": {
   "display_name": "Python 3",
   "language": "python",
   "name": "python3"
  },
  "language_info": {
   "codemirror_mode": {
    "name": "ipython",
    "version": 3
   },
   "file_extension": ".py",
   "mimetype": "text/x-python",
   "name": "python",
   "nbconvert_exporter": "python",
   "pygments_lexer": "ipython3",
   "version": "3.10.12"
  }
 },
 "nbformat": 4,
 "nbformat_minor": 5
}
